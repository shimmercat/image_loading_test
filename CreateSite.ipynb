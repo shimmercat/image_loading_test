{
 "cells": [
  {
   "cell_type": "code",
   "execution_count": 1,
   "metadata": {
    "collapsed": true
   },
   "outputs": [],
   "source": [
    "import shutil\n",
    "import os"
   ]
  },
  {
   "cell_type": "code",
   "execution_count": 2,
   "metadata": {
    "collapsed": true
   },
   "outputs": [],
   "source": [
    "def create_page(img_count):\n",
    "    document=\"\"\"<!DOCTYPE  html>\n",
    "    <html><head><title>Images test</title></head>\n",
    "    <body>\n",
    "    {0}\n",
    "    </body>\n",
    "    </html>\n",
    "    \"\"\"\n",
    "    images = \"\"\n",
    "    os.makedirs(\"site/generatedimgs/\", exist_ok=True)\n",
    "    for i in range(img_count):\n",
    "        shutil.copyfile(\"raw_image_1.png\", \"site/generatedimgs/img_{0}.png\".format(i))\n",
    "        images += \"<img src='/generatedimgs/img_{0}.png' alt='img-{0}'>\".format(i)\n",
    "    html_file=document.format(images)\n",
    "    with open(\"site/index_{0}.html\".format(img_count), \"w\") as out:\n",
    "        out.write(html_file)\n",
    "        \n",
    "create_page(1)"
   ]
  },
  {
   "cell_type": "code",
   "execution_count": 4,
   "metadata": {
    "collapsed": true
   },
   "outputs": [],
   "source": [
    "for i in [1,10,100,500]:\n",
    "    create_page(i)"
   ]
  },
  {
   "cell_type": "code",
   "execution_count": null,
   "metadata": {
    "collapsed": true
   },
   "outputs": [],
   "source": []
  }
 ],
 "metadata": {
  "kernelspec": {
   "display_name": "Python 3",
   "language": "python",
   "name": "python3"
  },
  "language_info": {
   "codemirror_mode": {
    "name": "ipython",
    "version": 3
   },
   "file_extension": ".py",
   "mimetype": "text/x-python",
   "name": "python",
   "nbconvert_exporter": "python",
   "pygments_lexer": "ipython3",
   "version": "3.4.3"
  }
 },
 "nbformat": 4,
 "nbformat_minor": 0
}
